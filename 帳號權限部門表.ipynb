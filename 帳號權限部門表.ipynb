{
  "nbformat": 4,
  "nbformat_minor": 0,
  "metadata": {
    "colab": {
      "provenance": [],
      "gpuType": "T4",
      "authorship_tag": "ABX9TyP+R1lBiMB+UY9XOZoaHzoE",
      "include_colab_link": true
    },
    "kernelspec": {
      "name": "python3",
      "display_name": "Python 3"
    },
    "language_info": {
      "name": "python"
    }
  },
  "cells": [
    {
      "cell_type": "markdown",
      "metadata": {
        "id": "view-in-github",
        "colab_type": "text"
      },
      "source": [
        "<a href=\"https://colab.research.google.com/github/YChen1212/SystemAccount_Risk_Analysis/blob/main/%E5%B8%B3%E8%99%9F%E6%AC%8A%E9%99%90%E9%83%A8%E9%96%80%E8%A1%A8.ipynb\" target=\"_parent\"><img src=\"https://colab.research.google.com/assets/colab-badge.svg\" alt=\"Open In Colab\"/></a>"
      ]
    },
    {
      "cell_type": "markdown",
      "source": [
        "# **建立帳號權限部門表**"
      ],
      "metadata": {
        "id": "I2bC8q02V7Ht"
      }
    },
    {
      "cell_type": "code",
      "source": [
        "# 安裝faker套件，以生成假資料\n",
        "!pip install faker"
      ],
      "metadata": {
        "colab": {
          "base_uri": "https://localhost:8080/"
        },
        "id": "eEa9kTjKr5zc",
        "outputId": "850337e6-4e2f-4a06-e116-8752358f69b0"
      },
      "execution_count": 2,
      "outputs": [
        {
          "output_type": "stream",
          "name": "stdout",
          "text": [
            "Collecting faker\n",
            "  Downloading faker-37.6.0-py3-none-any.whl.metadata (15 kB)\n",
            "Requirement already satisfied: tzdata in /usr/local/lib/python3.12/dist-packages (from faker) (2025.2)\n",
            "Downloading faker-37.6.0-py3-none-any.whl (1.9 MB)\n",
            "\u001b[?25l   \u001b[90m━━━━━━━━━━━━━━━━━━━━━━━━━━━━━━━━━━━━━━━━\u001b[0m \u001b[32m0.0/1.9 MB\u001b[0m \u001b[31m?\u001b[0m eta \u001b[36m-:--:--\u001b[0m\r\u001b[2K   \u001b[91m━━━━━━━━━━━━━━\u001b[0m\u001b[90m╺\u001b[0m\u001b[90m━━━━━━━━━━━━━━━━━━━━━━━━━\u001b[0m \u001b[32m0.7/1.9 MB\u001b[0m \u001b[31m21.2 MB/s\u001b[0m eta \u001b[36m0:00:01\u001b[0m\r\u001b[2K   \u001b[90m━━━━━━━━━━━━━━━━━━━━━━━━━━━━━━━━━━━━━━━━\u001b[0m \u001b[32m1.9/1.9 MB\u001b[0m \u001b[31m32.2 MB/s\u001b[0m eta \u001b[36m0:00:00\u001b[0m\n",
            "\u001b[?25hInstalling collected packages: faker\n",
            "Successfully installed faker-37.6.0\n"
          ]
        }
      ]
    },
    {
      "cell_type": "code",
      "source": [
        "# 匯入套件\n",
        "import pandas as pd\n",
        "import numpy as np\n",
        "import random\n",
        "from google.colab import files\n",
        "from faker import Faker"
      ],
      "metadata": {
        "id": "y_H0fvwIsUvb"
      },
      "execution_count": 3,
      "outputs": []
    },
    {
      "cell_type": "code",
      "source": [
        "# 使用Faker函式庫建立一個以臺灣（zh_TW）之假資料生成器\n",
        "fake = Faker('zh_TW')\n",
        "# 設定隨機種子為50，以確保隨機結果重現\n",
        "random.seed(50)"
      ],
      "metadata": {
        "id": "CPYBbIVDSHbr"
      },
      "execution_count": 4,
      "outputs": []
    },
    {
      "cell_type": "code",
      "source": [
        "# 設定使用者數量\n",
        "total_user=50\n",
        "# 設定各部門與職位對應的權限，字典格式為{'部門':{'職稱':['權限']}}\n",
        "ia_dept_job = {'IA':{'主任稽核':['查閱'], '稽核人員':['查閱']}}\n",
        "dept_job = {\n",
        "    'HR':{'人資主管':['薪資管理'], '人資':['招聘作業','員工資料維護']},\n",
        "    'FIN':{'財務主管':['傳票核准'], '會計':['編製會計憑證','費用報支審核'], '出納':['付款','出納確認'] },\n",
        "    'ITS':{'資訊主管':['SUPER_USER'], '資訊人員':['SUPER_USER']},\n",
        "    'SALES':{'銷售主管':['價格審核', '銷售報表查詢'], '銷售人員':['銷售訂單維護','客戶資料維護']},\n",
        "    'PD':{'採購主管':['採購審核'],'採購人員':['採購訂單輸入','產品定價管理']},\n",
        "    'R&D':{'研發主管':['研發文件審核'], '研發人員':['研發專案資料維護']},\n",
        "    }"
      ],
      "metadata": {
        "id": "UdcfzhbdZ4Bp"
      },
      "execution_count": 5,
      "outputs": []
    },
    {
      "cell_type": "code",
      "source": [
        "# 建立空白list，以讓資料填入\n",
        "account_data = []\n",
        "\n",
        "# 設定到職日為code撰寫當下往回推1年~5年(2020/8~2024/8)，並使用fake.date_between隨機產出區間內之日期，為讓後續欄位account_estd=hire_date，故獨立設定變數\n",
        "hire_date = fake.date_between(start_date='-5y', end_date='-1y')\n",
        "\n",
        "# 預設資料表必定包含一主任稽核及一稽核人員，將該兩列資料固定加入list\n",
        "account_data.append({\n",
        "    \"user_id\": \"E0001\",\n",
        "    \"user_name\": \"user0001\",\n",
        "    \"user_account\": \"ERP0001\",\n",
        "    \"department\": \"IA\",\n",
        "    \"job_title\": \"主任稽核\",\n",
        "    \"permissions\":ia_dept_job[\"IA\"][\"主任稽核\"],\n",
        "    'is_active':True,\n",
        "    'status':'在職',\n",
        "    'last_logon_date':fake.date_between(start_date='-30d', end_date='-10d'), # 設立帳號最後登入日為code撰寫當下往回推10天~30天(2025/7~2025/8)，並使用fake.date_between隨機產出區間內之日期\n",
        "    'hire_date':hire_date,\n",
        "    'account_estd': hire_date,\n",
        "    'terminate_date':''\n",
        "})\n",
        "hire_date = fake.date_between(start_date='-5y', end_date='-1y')\n",
        "account_data.append({\n",
        "    \"user_id\": \"E0002\",\n",
        "    \"user_name\": \"user0002\",\n",
        "    \"user_account\": \"ERP0002\",\n",
        "    \"department\": \"IA\",\n",
        "    \"job_title\": \"稽核人員\",\n",
        "    \"permissions\":ia_dept_job[\"IA\"][\"稽核人員\"],\n",
        "    'is_active':True,\n",
        "    'status':'在職',\n",
        "    'last_logon_date':fake.date_between(start_date='-30d', end_date='-10d'),\n",
        "    'hire_date':hire_date,\n",
        "    'account_estd': hire_date,\n",
        "    'terminate_date':''\n",
        "})\n",
        "\n"
      ],
      "metadata": {
        "id": "_ivbsaeIvsuc"
      },
      "execution_count": 6,
      "outputs": []
    },
    {
      "cell_type": "code",
      "source": [
        "# 隨機生成其餘使用者的帳號資料，涵蓋不同部門和職位\n",
        "for i in range(3, total_user+1):\n",
        "  user_id = f\"E{i:04d}\"\n",
        "  user_name = f\"user{i:04d}\"\n",
        "  user_account = f\"ERP{i:04d}\"\n",
        "  last_logon_date = fake.date_between(start_date  = '-30d', end_date = '-10d')\n",
        "  hire_date = fake.date_between(start_date  = '-5y', end_date = '-1y')\n",
        "  account_estd=hire_date\n",
        "  is_active = np.random.choice([True, False], p=[0.8, 0.2]) # 隨機設定是否在職\n",
        "  if is_active == True: # 根據是否在職決定狀態\n",
        "    status = '在職'\n",
        "  else:\n",
        "    status = '離職'\n",
        "  if status == '離職':\n",
        "    terminate_date=last_logon_date # 預設若人員離職其帳號登入日為離職日當日\n",
        "  else:\n",
        "    terminate_date=''\n",
        "  dept = random.choice(list(dept_job.keys())) # 隨機選擇部門\n",
        "  job = random.choice(list(dept_job[dept].keys())) # 根據部門，隨機選擇職位\n",
        "  permissions = dept_job[dept][job] # 根據部門和職位，隨機選擇權限\n",
        "  account_data.append(\n",
        "      {\n",
        "          \"user_id\":user_id,\n",
        "          \"user_name\":user_name,\n",
        "          'user_account':user_account,\n",
        "          'account_estd':account_estd,\n",
        "          'is_active':is_active,\n",
        "          'last_logon_date':last_logon_date,\n",
        "          'hire_date':hire_date, 'status':status,\n",
        "          'terminate_date':terminate_date,\n",
        "          'department':dept,\n",
        "          'job_title':job,\n",
        "          'permissions':permissions\n",
        "       }\n",
        "      )"
      ],
      "metadata": {
        "id": "RO218igOS3lz"
      },
      "execution_count": 7,
      "outputs": []
    },
    {
      "cell_type": "code",
      "source": [
        "# 將account_data轉換為DataFrame\n",
        "df = pd.DataFrame(account_data)"
      ],
      "metadata": {
        "id": "D0WDC9HCdhSq"
      },
      "execution_count": 9,
      "outputs": []
    },
    {
      "cell_type": "code",
      "source": [
        "# 將Dataframe(df)轉換為csv格式並儲存為ALL.csv，不包含index\n",
        "df_account = df.to_csv(\"ALL.csv\", index=False)\n",
        "# 下載ALL.csv至本地\n",
        "files.download(\"ALL.csv\")"
      ],
      "metadata": {
        "colab": {
          "base_uri": "https://localhost:8080/",
          "height": 17
        },
        "id": "xv6mw5uRe3D5",
        "outputId": "53c4a697-ba9b-4cab-82e9-0912c8155e03"
      },
      "execution_count": 10,
      "outputs": [
        {
          "output_type": "display_data",
          "data": {
            "text/plain": [
              "<IPython.core.display.Javascript object>"
            ],
            "application/javascript": [
              "\n",
              "    async function download(id, filename, size) {\n",
              "      if (!google.colab.kernel.accessAllowed) {\n",
              "        return;\n",
              "      }\n",
              "      const div = document.createElement('div');\n",
              "      const label = document.createElement('label');\n",
              "      label.textContent = `Downloading \"${filename}\": `;\n",
              "      div.appendChild(label);\n",
              "      const progress = document.createElement('progress');\n",
              "      progress.max = size;\n",
              "      div.appendChild(progress);\n",
              "      document.body.appendChild(div);\n",
              "\n",
              "      const buffers = [];\n",
              "      let downloaded = 0;\n",
              "\n",
              "      const channel = await google.colab.kernel.comms.open(id);\n",
              "      // Send a message to notify the kernel that we're ready.\n",
              "      channel.send({})\n",
              "\n",
              "      for await (const message of channel.messages) {\n",
              "        // Send a message to notify the kernel that we're ready.\n",
              "        channel.send({})\n",
              "        if (message.buffers) {\n",
              "          for (const buffer of message.buffers) {\n",
              "            buffers.push(buffer);\n",
              "            downloaded += buffer.byteLength;\n",
              "            progress.value = downloaded;\n",
              "          }\n",
              "        }\n",
              "      }\n",
              "      const blob = new Blob(buffers, {type: 'application/binary'});\n",
              "      const a = document.createElement('a');\n",
              "      a.href = window.URL.createObjectURL(blob);\n",
              "      a.download = filename;\n",
              "      div.appendChild(a);\n",
              "      a.click();\n",
              "      div.remove();\n",
              "    }\n",
              "  "
            ]
          },
          "metadata": {}
        },
        {
          "output_type": "display_data",
          "data": {
            "text/plain": [
              "<IPython.core.display.Javascript object>"
            ],
            "application/javascript": [
              "download(\"download_c615d8d5-b7b1-42cd-800c-0d8402ddaa05\", \"ALL.csv\", 6018)"
            ]
          },
          "metadata": {}
        }
      ]
    }
  ]
}